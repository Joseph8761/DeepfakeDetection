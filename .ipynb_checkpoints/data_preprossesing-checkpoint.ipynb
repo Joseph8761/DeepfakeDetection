{
 "cells": [
  {
   "cell_type": "markdown",
   "id": "6b452b13-9574-4cb4-8bf9-da985367f6d7",
   "metadata": {},
   "source": [
    "# Importing Libraries #"
   ]
  },
  {
   "cell_type": "code",
   "execution_count": 3,
   "id": "76c9f2d8-a64b-457d-96e7-0f65b581b781",
   "metadata": {},
   "outputs": [],
   "source": [
    "import pandas as pd\n",
    "import json\n",
    "import os"
   ]
  },
  {
   "cell_type": "markdown",
   "id": "871e8ff7-c38c-4467-8c73-627489ebfdff",
   "metadata": {},
   "source": [
    "Creating paths to import our images from our Dataset"
   ]
  },
  {
   "cell_type": "code",
   "execution_count": 4,
   "id": "747d48ff-be0d-406b-9bc6-a3a7d4a2694c",
   "metadata": {
    "scrolled": true
   },
   "outputs": [
    {
     "name": "stdout",
     "output_type": "stream",
     "text": [
      "/Users/josephnyembo/documents!/DeepfakeDetection/Data/similar/test_similar.json\n"
     ]
    }
   ],
   "source": [
    "test_file_path = 'similar/test_similar.json'\n",
    "train_file_path = 'similar/train_similar.json'\n",
    "base_path = r'Data'\n",
    "\n",
    "full_path = os.path.abspath(os.path.join(base_path, test_file_path))\n",
    "print(full_path)"
   ]
  },
  {
   "cell_type": "code",
   "execution_count": null,
   "id": "dcff85a0-6a08-48c1-bf57-fedb881d6b19",
   "metadata": {},
   "outputs": [],
   "source": []
  }
 ],
 "metadata": {
  "kernelspec": {
   "display_name": "Python 3 (ipykernel)",
   "language": "python",
   "name": "python3"
  },
  "language_info": {
   "codemirror_mode": {
    "name": "ipython",
    "version": 3
   },
   "file_extension": ".py",
   "mimetype": "text/x-python",
   "name": "python",
   "nbconvert_exporter": "python",
   "pygments_lexer": "ipython3",
   "version": "3.12.2"
  }
 },
 "nbformat": 4,
 "nbformat_minor": 5
}
